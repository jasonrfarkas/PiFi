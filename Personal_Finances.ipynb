{
 "cells": [
  {
   "cell_type": "code",
   "execution_count": null,
   "metadata": {
    "collapsed": false,
    "deletable": true,
    "editable": true
   },
   "outputs": [],
   "source": [
    "import os\n",
    "import sys\n",
    "module_path = os.path.abspath(os.path.join('..'))\n",
    "if module_path not in sys.path:\n",
    "    sys.path.append(module_path)\n",
    "\n",
    "#expected to start up notebook from personal finances on default_p_3\n",
    "from personalFinances.lib.pifi_backend import * \n",
    "\n",
    "# import plotly as py"
   ]
  },
  {
   "cell_type": "code",
   "execution_count": null,
   "metadata": {
    "collapsed": false,
    "deletable": true,
    "editable": true
   },
   "outputs": [],
   "source": [
    "\"\"\" Testing the multi-model generator\"\"\"\n",
    "## TODO: Consider not showing events that don't change anything. like no interest is charged that month\n",
    "model_sd = datetime.datetime.now() # datetime.datetime(2000, 1, 10, 0, 0) #\n",
    "model_ed = datetime.datetime(2030, 1, 11, 0, 0)\n",
    "\n",
    "cc_sd = model_sd\n",
    "ba_sd = model_sd\n",
    "salary_sd = datetime.datetime(2017, 7, 1, 0, 0)\n",
    "\n",
    "cc_ed = model_ed\n",
    "ba_ed = model_ed\n",
    "salary_ed = model_ed\n",
    "\n",
    "cc_i_sd = datetime.datetime(2017, 5, 8, 0, 0)\n",
    "ba_i_sd = datetime.datetime(2018, 1, 1, 0, 0)\n"
   ]
  },
  {
   "cell_type": "code",
   "execution_count": null,
   "metadata": {
    "collapsed": false,
    "deletable": true,
    "editable": true
   },
   "outputs": [],
   "source": [
    "\"\"\"Setup SubModels\"\"\"\n",
    "citi_bank = Bank(ba_sd, linked_accounts=[], cost_structure=[ (relativedelta(years=1), 0, ba_ed, [] ), ], \n",
    "#         (relativedelta(years=2), 0, datetime.datetime(2021, 1, 10, 0, 0), [] ), \n",
    "        model_name=\"BANK\", starting_amount=10000.0, balance_function=lambda x:x*1.0001,\n",
    "                     interest_start_date=ba_i_sd)\n",
    "\n",
    "cc = CreditCard(cc_sd, linked_accounts=[citi_bank], cost_structure=[\n",
    "        #         (relativedelta(months=1), 0 , 1 , []),\n",
    "        (relativedelta(months=1), -900 , cc_ed, [lambda x, event_date:x if event_date>=cc_i_sd else 0.0]), \n",
    "        ], \n",
    "        model_name=\"credit_card\", starting_amount=-1000.0, balance_function= lambda x:x*1.16, interest_start_date=cc_i_sd) # 1.16\n",
    "\n",
    "salary = fin_cause(salary_sd, linked_accounts=[citi_bank], cost_structure=[\n",
    "    (bi_monthly, 100000/24, salary_ed, [lambda cost:cost]), ],\n",
    "    model_name=\"Salary\")\n",
    "\n",
    "###Low versions\n",
    "citi_bank2 = Bank(ba_sd, linked_accounts=[], cost_structure=[ (relativedelta(years=1), 0, ba_ed, [] ), ], \n",
    "#         (relativedelta(years=2), 0, datetime.datetime(2021, 1, 10, 0, 0), [] ), \n",
    "        model_name=\"BANK\", starting_amount=10000.0, balance_function=lambda x:x*1.0001,\n",
    "                     interest_start_date=ba_i_sd)\n",
    "\n",
    "cc2 = CreditCard(cc_sd, linked_accounts=[citi_bank2], cost_structure=[\n",
    "        (relativedelta(months=1), -900 , cc_ed, [lambda x, event_date:x if event_date>=cc_i_sd else 0.0]), \n",
    "        ],\n",
    "        model_name=\"AA_card\", starting_amount=-1000.0, balance_function= lambda x:x*1.16, interest_start_date=cc_i_sd) # 1.16\n",
    "\n",
    "\n",
    "no_salary = fin_cause(salary_sd, linked_accounts=[citi_bank2], cost_structure=[\n",
    "    (bi_monthly, 0, salary_ed, [lambda cost:cost]), ],\n",
    "    model_name=\"Salary\")\n",
    "\n",
    "# , starting_amount=0.0, balance_function= lambda x:x, interest_start_date=None\n",
    "models = [citi_bank, cc, salary]\n",
    "low_models = [citi_bank2, cc2, no_salary]"
   ]
  },
  {
   "cell_type": "raw",
   "metadata": {
    "deletable": true,
    "editable": true
   },
   "source": []
  },
  {
   "cell_type": "code",
   "execution_count": null,
   "metadata": {
    "collapsed": false,
    "deletable": true,
    "editable": true
   },
   "outputs": [],
   "source": [
    "df_low_gen  = fin_mod_gen(low_models, model_ed)\n",
    "low_income = pd.DataFrame(df_low_gen).set_index(\"Index\").fillna(0)\n",
    "low_income.head(100)"
   ]
  },
  {
   "cell_type": "code",
   "execution_count": null,
   "metadata": {
    "collapsed": false,
    "deletable": true,
    "editable": true
   },
   "outputs": [],
   "source": [
    "\"\"\"Setup Main Model\"\"\"\n",
    "df_gen  = fin_mod_gen(models, model_ed)\n",
    "income = pd.DataFrame(df_gen).set_index(\"Index\").fillna(0)\n",
    "income.head(100)    "
   ]
  },
  {
   "cell_type": "code",
   "execution_count": null,
   "metadata": {
    "collapsed": false,
    "deletable": true,
    "editable": true
   },
   "outputs": [],
   "source": []
  },
  {
   "cell_type": "code",
   "execution_count": null,
   "metadata": {
    "collapsed": false,
    "deletable": true,
    "editable": true
   },
   "outputs": [],
   "source": [
    "cols = [c for c in income.columns if \"balance\" in c ]\n",
    "number_of_events = 100\n",
    "for c in cols:\n",
    "    print(c)\n",
    "    tempx = low_income.index[:number_of_events]\n",
    "    tempy1 = low_income[\"{}\".format(c)][:number_of_events] #[c]\n",
    "    tempy2 = income[\"{}\".format(c)][:number_of_events]\n",
    "    \n",
    "    fig, temp1 = plt.subplots(figsize=(20, 6))\n",
    "    temp1.fill_between(tempx, tempy1, tempy2)\n",
    "    temp1.set_ylabel(\"{}\".format(c))\n",
    "    plt.show()\n"
   ]
  },
  {
   "cell_type": "code",
   "execution_count": null,
   "metadata": {
    "collapsed": false,
    "deletable": true,
    "editable": true
   },
   "outputs": [],
   "source": []
  },
  {
   "cell_type": "code",
   "execution_count": null,
   "metadata": {
    "collapsed": false,
    "deletable": true,
    "editable": true,
    "scrolled": true
   },
   "outputs": [],
   "source": []
  },
  {
   "cell_type": "code",
   "execution_count": null,
   "metadata": {
    "collapsed": false,
    "deletable": true,
    "editable": true
   },
   "outputs": [],
   "source": []
  },
  {
   "cell_type": "code",
   "execution_count": null,
   "metadata": {
    "collapsed": false,
    "deletable": true,
    "editable": true
   },
   "outputs": [],
   "source": []
  },
  {
   "cell_type": "code",
   "execution_count": null,
   "metadata": {
    "collapsed": false,
    "deletable": true,
    "editable": true
   },
   "outputs": [],
   "source": []
  },
  {
   "cell_type": "code",
   "execution_count": null,
   "metadata": {
    "collapsed": false,
    "deletable": true,
    "editable": true
   },
   "outputs": [],
   "source": [
    "    "
   ]
  },
  {
   "cell_type": "code",
   "execution_count": null,
   "metadata": {
    "collapsed": false,
    "deletable": true,
    "editable": true
   },
   "outputs": [],
   "source": []
  },
  {
   "cell_type": "raw",
   "metadata": {
    "collapsed": false,
    "deletable": true,
    "editable": true
   },
   "source": []
  },
  {
   "cell_type": "code",
   "execution_count": null,
   "metadata": {
    "collapsed": false,
    "deletable": true,
    "editable": true
   },
   "outputs": [],
   "source": []
  },
  {
   "cell_type": "code",
   "execution_count": null,
   "metadata": {
    "collapsed": false,
    "deletable": true,
    "editable": true
   },
   "outputs": [],
   "source": []
  },
  {
   "cell_type": "code",
   "execution_count": null,
   "metadata": {
    "collapsed": false,
    "deletable": true,
    "editable": true
   },
   "outputs": [],
   "source": []
  },
  {
   "cell_type": "code",
   "execution_count": null,
   "metadata": {
    "collapsed": true,
    "deletable": true,
    "editable": true
   },
   "outputs": [],
   "source": []
  },
  {
   "cell_type": "code",
   "execution_count": null,
   "metadata": {
    "collapsed": false,
    "deletable": true,
    "editable": true
   },
   "outputs": [],
   "source": []
  },
  {
   "cell_type": "code",
   "execution_count": null,
   "metadata": {
    "collapsed": false,
    "deletable": true,
    "editable": true
   },
   "outputs": [],
   "source": []
  },
  {
   "cell_type": "code",
   "execution_count": null,
   "metadata": {
    "collapsed": false,
    "deletable": true,
    "editable": true
   },
   "outputs": [],
   "source": []
  },
  {
   "cell_type": "code",
   "execution_count": null,
   "metadata": {
    "collapsed": false,
    "deletable": true,
    "editable": true
   },
   "outputs": [],
   "source": []
  },
  {
   "cell_type": "code",
   "execution_count": null,
   "metadata": {
    "collapsed": false,
    "deletable": true,
    "editable": true
   },
   "outputs": [],
   "source": [
    "\"\"\"\n",
    "Links:\n",
    "\n",
    "http://matplotlib.org/examples/pylab_examples/fill_between_demo.html\n",
    "http://matplotlib.org/gallery.html\n",
    "http://matplotlib.org/examples/api/patch_collection.html\n",
    "http://matplotlib.org/examples/pylab_examples/major_minor_demo2.html\n",
    "http://matplotlib.org/examples/pylab_examples/psd_demo3.html\n",
    "http://matplotlib.org/examples/pylab_examples/psd_demo_complex.html\n",
    "\n",
    "\n",
    "http://pbpython.com/amortization-model-revised.html\n",
    "https://github.com/MartinPyka/financial_life/graphs/contributors\n",
    "https://docs.scipy.org/doc/numpy/reference/generated/numpy.pmt.html\n",
    "\n",
    "https://docs.google.com/spreadsheets/d/1f2F3hDHtP84RUbA68yTX70YyeXk0mMlWAqaCrVOZ3wk/edit#gid=1450323390\n",
    "\"\"\""
   ]
  }
 ],
 "metadata": {
  "kernelspec": {
   "display_name": "Python 3",
   "language": "python",
   "name": "python3"
  },
  "language_info": {
   "codemirror_mode": {
    "name": "ipython",
    "version": 3
   },
   "file_extension": ".py",
   "mimetype": "text/x-python",
   "name": "python",
   "nbconvert_exporter": "python",
   "pygments_lexer": "ipython3",
   "version": "3.5.1"
  }
 },
 "nbformat": 4,
 "nbformat_minor": 1
}
